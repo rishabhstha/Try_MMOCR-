{
 "cells": [
  {
   "cell_type": "code",
   "execution_count": 1,
   "id": "66484632-0e42-4b05-aeb4-a29b98ede4b7",
   "metadata": {},
   "outputs": [],
   "source": [
    "#imports"
   ]
  },
  {
   "cell_type": "code",
   "execution_count": 2,
   "id": "541d8d4b-cb3f-46bb-9bea-0386a7b7e692",
   "metadata": {},
   "outputs": [],
   "source": [
    "import pandas as pd"
   ]
  },
  {
   "cell_type": "code",
   "execution_count": null,
   "id": "3e1c7b76-39ea-423e-ad69-0cc1dab58c83",
   "metadata": {},
   "outputs": [],
   "source": []
  }
 ],
 "metadata": {
  "kernelspec": {
   "display_name": "RecallEDA",
   "language": "python",
   "name": "recalleda"
  },
  "language_info": {
   "codemirror_mode": {
    "name": "ipython",
    "version": 3
   },
   "file_extension": ".py",
   "mimetype": "text/x-python",
   "name": "python",
   "nbconvert_exporter": "python",
   "pygments_lexer": "ipython3",
   "version": "3.10.2"
  }
 },
 "nbformat": 4,
 "nbformat_minor": 5
}
